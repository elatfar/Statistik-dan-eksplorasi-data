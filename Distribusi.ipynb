{
 "cells": [
  {
   "cell_type": "code",
   "execution_count": 3,
   "metadata": {},
   "outputs": [
    {
     "data": {
      "text/plain": [
       "[Text(0, 0.5, 'Frequency'), Text(0.5, 0, 'Normal distributiion')]"
      ]
     },
     "execution_count": 3,
     "metadata": {},
     "output_type": "execute_result"
    },
    {
     "data": {
      "image/png": "[encoded data removed]",
      "text/plain": [
       "<Figure size 432x288 with 1 Axes>"
      ]
     },
     "metadata": {
      "needs_background": "light"
     },
     "output_type": "display_data"
    }
   ],
   "source": [
    "#Distribusi Normal\n",
    "\n",
    "#memanggil pustaka\n",
    "import matplotlib.pyplot as pl\n",
    "import seaborn as sns\n",
    "from scipy.stats import norm\n",
    "\n",
    "data_normal = norm.rvs(size=1000,loc=0,scale=1)\n",
    "\n",
    "ax = sns.distplot(data_normal,\n",
    "                bins=10,kde=True,\n",
    "                color='skyblue',\n",
    "                hist_kws={\"linewidth\":15, 'alpha':1})\n",
    "\n",
    "ax.set(xlabel='Normal distributiion', ylabel='Frequency')"
   ]
  },
  {
   "cell_type": "code",
   "execution_count": 32,
   "metadata": {
    "collapsed": true,
    "jupyter": {
     "outputs_hidden": true
    }
   },
   "outputs": [
    {
     "data": {
      "text/html": [
       "<div>\n",
       "<style scoped>\n",
       "    .dataframe tbody tr th:only-of-type {\n",
       "        vertical-align: middle;\n",
       "    }\n",
       "\n",
       "    .dataframe tbody tr th {\n",
       "        vertical-align: top;\n",
       "    }\n",
       "\n",
       "    .dataframe thead th {\n",
       "        text-align: right;\n",
       "    }\n",
       "</style>\n",
       "<table border=\"1\" class=\"dataframe\">\n",
       "  <thead>\n",
       "    <tr style=\"text-align: right;\">\n",
       "      <th></th>\n",
       "      <th>Type</th>\n",
       "      <th>Features Type</th>\n",
       "      <th>ID-number</th>\n",
       "      <th>Province_code</th>\n",
       "      <th>Province_name</th>\n",
       "      <th>Confirmed_cases</th>\n",
       "      <th>Recovered_cases</th>\n",
       "      <th>Death_cases</th>\n",
       "      <th>Features Geometry Type</th>\n",
       "      <th>Features Geometry Coordinates</th>\n",
       "    </tr>\n",
       "  </thead>\n",
       "  <tbody>\n",
       "    <tr>\n",
       "      <th>29</th>\n",
       "      <td>FeatureCollection</td>\n",
       "      <td>Feature</td>\n",
       "      <td>30</td>\n",
       "      <td>76</td>\n",
       "      <td>Sulawesi Barat</td>\n",
       "      <td>1036</td>\n",
       "      <td>841</td>\n",
       "      <td>14</td>\n",
       "      <td>Point</td>\n",
       "      <td>119.34347138300006,-2.461902014999964</td>\n",
       "    </tr>\n",
       "    <tr>\n",
       "      <th>30</th>\n",
       "      <td>FeatureCollection</td>\n",
       "      <td>Feature</td>\n",
       "      <td>31</td>\n",
       "      <td>81</td>\n",
       "      <td>Maluku</td>\n",
       "      <td>3863</td>\n",
       "      <td>3266</td>\n",
       "      <td>47</td>\n",
       "      <td>Point</td>\n",
       "      <td>129.360425,-3.126119342999971</td>\n",
       "    </tr>\n",
       "    <tr>\n",
       "      <th>31</th>\n",
       "      <td>FeatureCollection</td>\n",
       "      <td>Feature</td>\n",
       "      <td>32</td>\n",
       "      <td>82</td>\n",
       "      <td>Maluku Utara</td>\n",
       "      <td>2232</td>\n",
       "      <td>1946</td>\n",
       "      <td>75</td>\n",
       "      <td>Point</td>\n",
       "      <td>128.01592944200002,0.869337001000019</td>\n",
       "    </tr>\n",
       "    <tr>\n",
       "      <th>32</th>\n",
       "      <td>FeatureCollection</td>\n",
       "      <td>Feature</td>\n",
       "      <td>33</td>\n",
       "      <td>94</td>\n",
       "      <td>Papua</td>\n",
       "      <td>9037</td>\n",
       "      <td>4637</td>\n",
       "      <td>129</td>\n",
       "      <td>Point</td>\n",
       "      <td>140.0000000000001,-5</td>\n",
       "    </tr>\n",
       "    <tr>\n",
       "      <th>33</th>\n",
       "      <td>FeatureCollection</td>\n",
       "      <td>Feature</td>\n",
       "      <td>34</td>\n",
       "      <td>91</td>\n",
       "      <td>Papua Barat</td>\n",
       "      <td>4189</td>\n",
       "      <td>3655</td>\n",
       "      <td>66</td>\n",
       "      <td>Point</td>\n",
       "      <td>132.9683417120001,-2.041723281999964</td>\n",
       "    </tr>\n",
       "  </tbody>\n",
       "</table>\n",
       "</div>"
      ],
      "text/plain": [
       "                 Type Features Type  ID-number  Province_code   Province_name  \\\n",
       "29  FeatureCollection       Feature         30             76  Sulawesi Barat   \n",
       "30  FeatureCollection       Feature         31             81          Maluku   \n",
       "31  FeatureCollection       Feature         32             82    Maluku Utara   \n",
       "32  FeatureCollection       Feature         33             94           Papua   \n",
       "33  FeatureCollection       Feature         34             91     Papua Barat   \n",
       "\n",
       "    Confirmed_cases  Recovered_cases  Death_cases Features Geometry Type  \\\n",
       "29             1036              841           14                  Point   \n",
       "30             3863             3266           47                  Point   \n",
       "31             2232             1946           75                  Point   \n",
       "32             9037             4637          129                  Point   \n",
       "33             4189             3655           66                  Point   \n",
       "\n",
       "            Features Geometry Coordinates  \n",
       "29  119.34347138300006,-2.461902014999964  \n",
       "30          129.360425,-3.126119342999971  \n",
       "31   128.01592944200002,0.869337001000019  \n",
       "32                   140.0000000000001,-5  \n",
       "33   132.9683417120001,-2.041723281999964  "
      ]
     },
     "execution_count": 32,
     "metadata": {},
     "output_type": "execute_result"
    }
   ],
   "source": [
    "import pandas as pd\n",
    "\n",
    "data_cov = pd.read_csv(\"/home/not/Downloads/Covid-19_province.csv\")\n",
    "data_cov[-5:]"
   ]
  },
  {
   "cell_type": "code",
   "execution_count": 40,
   "metadata": {
    "collapsed": true,
    "jupyter": {
     "outputs_hidden": true
    }
   },
   "outputs": [
    {
     "data": {
      "text/html": [
       "<div>\n",
       "<style scoped>\n",
       "    .dataframe tbody tr th:only-of-type {\n",
       "        vertical-align: middle;\n",
       "    }\n",
       "\n",
       "    .dataframe tbody tr th {\n",
       "        vertical-align: top;\n",
       "    }\n",
       "\n",
       "    .dataframe thead th {\n",
       "        text-align: right;\n",
       "    }\n",
       "</style>\n",
       "<table border=\"1\" class=\"dataframe\">\n",
       "  <thead>\n",
       "    <tr style=\"text-align: right;\">\n",
       "      <th></th>\n",
       "      <th>Province_code</th>\n",
       "      <th>Province_name</th>\n",
       "      <th>Confirmed_cases</th>\n",
       "      <th>Recovered_cases</th>\n",
       "      <th>Death_cases</th>\n",
       "      <th>Features Geometry Type</th>\n",
       "      <th>Features Geometry Coordinates</th>\n",
       "    </tr>\n",
       "  </thead>\n",
       "  <tbody>\n",
       "    <tr>\n",
       "      <th>0</th>\n",
       "      <td>11</td>\n",
       "      <td>Aceh</td>\n",
       "      <td>7797</td>\n",
       "      <td>6258</td>\n",
       "      <td>282</td>\n",
       "      <td>Point</td>\n",
       "      <td>96.90952274800009,4.225081892000048</td>\n",
       "    </tr>\n",
       "    <tr>\n",
       "      <th>1</th>\n",
       "      <td>12</td>\n",
       "      <td>Sumatera Utara</td>\n",
       "      <td>13277</td>\n",
       "      <td>10846</td>\n",
       "      <td>542</td>\n",
       "      <td>Point</td>\n",
       "      <td>99.05788784900005,2.184779215000049</td>\n",
       "    </tr>\n",
       "    <tr>\n",
       "      <th>2</th>\n",
       "      <td>13</td>\n",
       "      <td>Sumatera Barat</td>\n",
       "      <td>16709</td>\n",
       "      <td>13386</td>\n",
       "      <td>311</td>\n",
       "      <td>Point</td>\n",
       "      <td>100.46680503000005,-0.85191434799998</td>\n",
       "    </tr>\n",
       "    <tr>\n",
       "      <th>3</th>\n",
       "      <td>14</td>\n",
       "      <td>Riau</td>\n",
       "      <td>14841</td>\n",
       "      <td>11490</td>\n",
       "      <td>340</td>\n",
       "      <td>Point</td>\n",
       "      <td>101.81289195400007,0.510525849000032</td>\n",
       "    </tr>\n",
       "    <tr>\n",
       "      <th>4</th>\n",
       "      <td>15</td>\n",
       "      <td>Jambi</td>\n",
       "      <td>1399</td>\n",
       "      <td>892</td>\n",
       "      <td>27</td>\n",
       "      <td>Point</td>\n",
       "      <td>103.59932,-1.61775</td>\n",
       "    </tr>\n",
       "  </tbody>\n",
       "</table>\n",
       "</div>"
      ],
      "text/plain": [
       "   Province_code   Province_name  Confirmed_cases  Recovered_cases  \\\n",
       "0             11            Aceh             7797             6258   \n",
       "1             12  Sumatera Utara            13277            10846   \n",
       "2             13  Sumatera Barat            16709            13386   \n",
       "3             14            Riau            14841            11490   \n",
       "4             15           Jambi             1399              892   \n",
       "\n",
       "   Death_cases Features Geometry Type         Features Geometry Coordinates  \n",
       "0          282                  Point   96.90952274800009,4.225081892000048  \n",
       "1          542                  Point   99.05788784900005,2.184779215000049  \n",
       "2          311                  Point  100.46680503000005,-0.85191434799998  \n",
       "3          340                  Point  101.81289195400007,0.510525849000032  \n",
       "4           27                  Point                    103.59932,-1.61775  "
      ]
     },
     "execution_count": 40,
     "metadata": {},
     "output_type": "execute_result"
    }
   ],
   "source": [
    "#data_cov = data_cov.drop(columns=['Type','Features Type','ID-number'])\n",
    "data_cov[:5]"
   ]
  },
  {
   "cell_type": "code",
   "execution_count": 16,
   "metadata": {
    "collapsed": true,
    "jupyter": {
     "outputs_hidden": true
    }
   },
   "outputs": [
    {
     "name": "stdout",
     "output_type": "stream",
     "text": [
      "[ 7797 13277 16709 14841  1399]\n",
      "[ 6258 10846 13386 11490   892]\n",
      "['Aceh' 'Sumatera Utara' 'Sumatera Barat' 'Riau' 'Jambi']\n"
     ]
    }
   ],
   "source": [
    "import numpy as np\n",
    "\n",
    "conf_case = np.array(data_cov['Confirmed_cases'])\n",
    "reco_case = np.array(data_cov['Recovered_cases'])\n",
    "prov_name = np.array(data_cov['Province_name'])\n",
    "\n",
    "print(conf_case[:5]) \n",
    "print(reco_case[:5])\n",
    "print(prov_name[:5])"
   ]
  },
  {
   "cell_type": "code",
   "execution_count": 51,
   "metadata": {
    "collapsed": true,
    "jupyter": {
     "outputs_hidden": true
    }
   },
   "outputs": [
    {
     "data": {
      "image/png": "[encoded data removed]",
      "text/plain": [
       "<Figure size 432x288 with 1 Axes>"
      ]
     },
     "metadata": {
      "needs_background": "light"
     },
     "output_type": "display_data"
    }
   ],
   "source": [
    "dir_python = \"/home/not/Project/Python/Gambar/\"\n",
    "\n",
    "conf_fig = pl.figure()\n",
    "conf_vis = pl.hist(conf_case)\n",
    "pl.ylabel(\"banyak provinsi\")\n",
    "pl.xlabel(\"kasus terkonfirmasi\")\n",
    "pl.show()\n",
    "conf_fig.savefig(dir_python+'conf_cases.png')"
   ]
  },
  {
   "cell_type": "code",
   "execution_count": 49,
   "metadata": {
    "collapsed": true,
    "jupyter": {
     "outputs_hidden": true
    }
   },
   "outputs": [
    {
     "data": {
      "image/png": "[encoded data removed]",
      "text/plain": [
       "<Figure size 432x288 with 1 Axes>"
      ]
     },
     "metadata": {
      "needs_background": "light"
     },
     "output_type": "display_data"
    }
   ],
   "source": [
    "reco_fig = pl.figure()\n",
    "reco_vis = pl.hist(reco_case)\n",
    "pl.show()\n",
    "reco_fig.savefig('reco_cases.png')"
   ]
  },
  {
   "cell_type": "code",
   "execution_count": 27,
   "metadata": {},
   "outputs": [
    {
     "data": {
      "text/plain": [
       "<function matplotlib.pyplot.show(*args, **kw)>"
      ]
     },
     "execution_count": 27,
     "metadata": {},
     "output_type": "execute_result"
    },
    {
     "data": {
      "image/png": "[encoded data removed]",
      "text/plain": [
       "<Figure size 432x288 with 1 Axes>"
      ]
     },
     "metadata": {
      "needs_background": "light"
     },
     "output_type": "display_data"
    }
   ],
   "source": [
    "cov_fig = pl.figure()\n",
    "pl.scatter(prov_name,reco_case)\n",
    "pl.xticks(rotation=90)\n",
    "pl.show\n",
    "cov_fig.savefig('covid_per_provinsi.png')"
   ]
  },
  {
   "cell_type": "code",
   "execution_count": 28,
   "metadata": {},
   "outputs": [
    {
     "data": {
      "text/plain": [
       "array([[ 7797,  6258,   282],\n",
       "       [13277, 10846,   542],\n",
       "       [16709, 13386,   311],\n",
       "       [14841, 11490,   340],\n",
       "       [ 1399,   892,    27]])"
      ]
     },
     "execution_count": 28,
     "metadata": {},
     "output_type": "execute_result"
    }
   ],
   "source": [
    "parameter_covid = np.array(data_cov[['Confirmed_cases',\n",
    "                                     'Recovered_cases',\n",
    "                                     'Death_cases']])\n",
    "\n",
    "parameter_covid[:5]"
   ]
  },
  {
   "cell_type": "code",
   "execution_count": 35,
   "metadata": {},
   "outputs": [
    {
     "name": "stdout",
     "output_type": "stream",
     "text": [
      "ini garis \\ baru\n"
     ]
    }
   ],
   "source": [
    "from email.MIMEMultipart import MIMEMultipart\n",
    "from email.MIMEText import MIMEText\n",
    "from email.MIMEImage import MIMEImage\n",
    "\n",
    "# Define these once; use them twice!\n",
    "strFrom = 'from@example.com'\n",
    "strTo = 'to@example.com'\n",
    "\n",
    "# Create the root message and fill in the from, to, and subject headers\n",
    "msgRoot = MIMEMultipart('related')\n",
    "msgRoot['Subject'] = 'test message'\n",
    "msgRoot['From'] = strFrom\n",
    "msgRoot['To'] = strTo\n",
    "msgRoot.preamble = 'This is a multi-part message in MIME format.'\n",
    "\n",
    "# Encapsulate the plain and HTML versions of the message body in an\n",
    "# 'alternative' part, so message agents can decide which they want to display.\n",
    "msgAlternative = MIMEMultipart('alternative')\n",
    "msgRoot.attach(msgAlternative)\n",
    "\n",
    "msgText = MIMEText('This is the alternative plain text message.')\n",
    "msgAlternative.attach(msgText)\n",
    "\n",
    "# We reference the image in the IMG SRC attribute by the ID we give it below\n",
    "msgText = MIMEText('<b>Some <i>HTML</i> text</b> and an image.<br><img src=\"cid:image1\"><br>Nifty!', 'html')\n",
    "msgAlternative.attach(msgText)\n",
    "\n",
    "# This example assumes the image is in the current directory\n",
    "fp = open('test.jpg', 'rb')\n",
    "msgImage = MIMEImage(fp.read())\n",
    "fp.close()\n",
    "\n",
    "# Define the image's ID as referenced above\n",
    "msgImage.add_header('Content-ID', '<image1>')\n",
    "msgRoot.attach(msgImage)\n",
    "\n",
    "# Send the email (this example assumes SMTP authentication is required)\n",
    "import smtplib\n",
    "smtp = smtplib.SMTP()\n",
    "smtp.connect('smtp.example.com')\n",
    "smtp.login('exampleuser', 'examplepass')\n",
    "smtp.sendmail(strFrom, strTo, msgRoot.as_string())\n",
    "smtp.quit()"
   ]
  }
 ],
 "metadata": {
  "kernelspec": {
   "display_name": "Python 3",
   "language": "python",
   "name": "python3"
  },
  "language_info": {
   "codemirror_mode": {
    "name": "ipython",
    "version": 3
   },
   "file_extension": ".py",
   "mimetype": "text/x-python",
   "name": "python",
   "nbconvert_exporter": "python",
   "pygments_lexer": "ipython3",
   "version": "3.6.9"
  }
 },
 "nbformat": 4,
 "nbformat_minor": 4
}
