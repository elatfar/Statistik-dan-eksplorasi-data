{
 "cells": [
  {
   "cell_type": "code",
   "execution_count": 22,
   "metadata": {},
   "outputs": [
    {
     "data": {
      "text/plain": [
       "[Text(0, 0.5, 'Frequency'), Text(0.5, 0, 'Normal distributiion')]"
      ]
     },
     "execution_count": 22,
     "metadata": {},
     "output_type": "execute_result"
    },
    {
     "data": {
      "image/png": "[encoded data removed]",
      "text/plain": [
       "<Figure size 432x288 with 1 Axes>"
      ]
     },
     "metadata": {
      "needs_background": "light"
     },
     "output_type": "display_data"
    }
   ],
   "source": [
    "#Distribusi Normal\n",
    "\n",
    "#memanggil pustaka\n",
    "import matplotlib.pyplot as plt\n",
    "import seaborn as sns\n",
    "from scipy.stats import norm\n",
    "\n",
    "data_normal = norm.rvs(size=1000,loc=0,scale=1)\n",
    "\n",
    "ax = sns.distplot(data_normal,\n",
    "                bins=10,kde=True,\n",
    "                color='skyblue',\n",
    "                hist_kws={\"linewidth\":15, 'alpha':1})\n",
    "\n",
    "ax.set(xlabel='Normal distributiion', ylabel='Frequency')"
   ]
  },
  {
   "cell_type": "code",
   "execution_count": 3,
   "metadata": {},
   "outputs": [
    {
     "data": {
      "text/html": [
       "<div>\n",
       "<style scoped>\n",
       "    .dataframe tbody tr th:only-of-type {\n",
       "        vertical-align: middle;\n",
       "    }\n",
       "\n",
       "    .dataframe tbody tr th {\n",
       "        vertical-align: top;\n",
       "    }\n",
       "\n",
       "    .dataframe thead th {\n",
       "        text-align: right;\n",
       "    }\n",
       "</style>\n",
       "<table border=\"1\" class=\"dataframe\">\n",
       "  <thead>\n",
       "    <tr style=\"text-align: right;\">\n",
       "      <th></th>\n",
       "      <th>Type</th>\n",
       "      <th>Features Type</th>\n",
       "      <th>ID-number</th>\n",
       "      <th>Province_code</th>\n",
       "      <th>Province_name</th>\n",
       "      <th>Confirmed_cases</th>\n",
       "      <th>Recovered_cases</th>\n",
       "      <th>Death_cases</th>\n",
       "      <th>Features Geometry Type</th>\n",
       "      <th>Features Geometry Coordinates</th>\n",
       "    </tr>\n",
       "  </thead>\n",
       "  <tbody>\n",
       "    <tr>\n",
       "      <th>29</th>\n",
       "      <td>FeatureCollection</td>\n",
       "      <td>Feature</td>\n",
       "      <td>30</td>\n",
       "      <td>76</td>\n",
       "      <td>Sulawesi Barat</td>\n",
       "      <td>1036</td>\n",
       "      <td>841</td>\n",
       "      <td>14</td>\n",
       "      <td>Point</td>\n",
       "      <td>119.34347138300006,-2.461902014999964</td>\n",
       "    </tr>\n",
       "    <tr>\n",
       "      <th>30</th>\n",
       "      <td>FeatureCollection</td>\n",
       "      <td>Feature</td>\n",
       "      <td>31</td>\n",
       "      <td>81</td>\n",
       "      <td>Maluku</td>\n",
       "      <td>3863</td>\n",
       "      <td>3266</td>\n",
       "      <td>47</td>\n",
       "      <td>Point</td>\n",
       "      <td>129.360425,-3.126119342999971</td>\n",
       "    </tr>\n",
       "    <tr>\n",
       "      <th>31</th>\n",
       "      <td>FeatureCollection</td>\n",
       "      <td>Feature</td>\n",
       "      <td>32</td>\n",
       "      <td>82</td>\n",
       "      <td>Maluku Utara</td>\n",
       "      <td>2232</td>\n",
       "      <td>1946</td>\n",
       "      <td>75</td>\n",
       "      <td>Point</td>\n",
       "      <td>128.01592944200002,0.869337001000019</td>\n",
       "    </tr>\n",
       "    <tr>\n",
       "      <th>32</th>\n",
       "      <td>FeatureCollection</td>\n",
       "      <td>Feature</td>\n",
       "      <td>33</td>\n",
       "      <td>94</td>\n",
       "      <td>Papua</td>\n",
       "      <td>9037</td>\n",
       "      <td>4637</td>\n",
       "      <td>129</td>\n",
       "      <td>Point</td>\n",
       "      <td>140.0000000000001,-5</td>\n",
       "    </tr>\n",
       "    <tr>\n",
       "      <th>33</th>\n",
       "      <td>FeatureCollection</td>\n",
       "      <td>Feature</td>\n",
       "      <td>34</td>\n",
       "      <td>91</td>\n",
       "      <td>Papua Barat</td>\n",
       "      <td>4189</td>\n",
       "      <td>3655</td>\n",
       "      <td>66</td>\n",
       "      <td>Point</td>\n",
       "      <td>132.9683417120001,-2.041723281999964</td>\n",
       "    </tr>\n",
       "  </tbody>\n",
       "</table>\n",
       "</div>"
      ],
      "text/plain": [
       "                 Type Features Type  ID-number  Province_code   Province_name  \\\n",
       "29  FeatureCollection       Feature         30             76  Sulawesi Barat   \n",
       "30  FeatureCollection       Feature         31             81          Maluku   \n",
       "31  FeatureCollection       Feature         32             82    Maluku Utara   \n",
       "32  FeatureCollection       Feature         33             94           Papua   \n",
       "33  FeatureCollection       Feature         34             91     Papua Barat   \n",
       "\n",
       "    Confirmed_cases  Recovered_cases  Death_cases Features Geometry Type  \\\n",
       "29             1036              841           14                  Point   \n",
       "30             3863             3266           47                  Point   \n",
       "31             2232             1946           75                  Point   \n",
       "32             9037             4637          129                  Point   \n",
       "33             4189             3655           66                  Point   \n",
       "\n",
       "            Features Geometry Coordinates  \n",
       "29  119.34347138300006,-2.461902014999964  \n",
       "30          129.360425,-3.126119342999971  \n",
       "31   128.01592944200002,0.869337001000019  \n",
       "32                   140.0000000000001,-5  \n",
       "33   132.9683417120001,-2.041723281999964  "
      ]
     },
     "execution_count": 3,
     "metadata": {},
     "output_type": "execute_result"
    }
   ],
   "source": [
    "import pandas as pd\n",
    "\n",
    "data_cov = pd.read_csv(\"Covid-19_province.csv\")\n",
    "data_cov[-5:]"
   ]
  },
  {
   "cell_type": "code",
   "execution_count": 64,
   "metadata": {},
   "outputs": [
    {
     "data": {
      "text/html": [
       "<div>\n",
       "<style scoped>\n",
       "    .dataframe tbody tr th:only-of-type {\n",
       "        vertical-align: middle;\n",
       "    }\n",
       "\n",
       "    .dataframe tbody tr th {\n",
       "        vertical-align: top;\n",
       "    }\n",
       "\n",
       "    .dataframe thead th {\n",
       "        text-align: right;\n",
       "    }\n",
       "</style>\n",
       "<table border=\"1\" class=\"dataframe\">\n",
       "  <thead>\n",
       "    <tr style=\"text-align: right;\">\n",
       "      <th></th>\n",
       "      <th>Province_code</th>\n",
       "      <th>Province_name</th>\n",
       "      <th>Confirmed_cases</th>\n",
       "      <th>Recovered_cases</th>\n",
       "      <th>Death_cases</th>\n",
       "      <th>Features Geometry Type</th>\n",
       "      <th>Features Geometry Coordinates</th>\n",
       "    </tr>\n",
       "  </thead>\n",
       "  <tbody>\n",
       "    <tr>\n",
       "      <th>0</th>\n",
       "      <td>11</td>\n",
       "      <td>Aceh</td>\n",
       "      <td>7797</td>\n",
       "      <td>6258</td>\n",
       "      <td>282</td>\n",
       "      <td>Point</td>\n",
       "      <td>96.90952274800009,4.225081892000048</td>\n",
       "    </tr>\n",
       "    <tr>\n",
       "      <th>1</th>\n",
       "      <td>12</td>\n",
       "      <td>Sumatera Utara</td>\n",
       "      <td>13277</td>\n",
       "      <td>10846</td>\n",
       "      <td>542</td>\n",
       "      <td>Point</td>\n",
       "      <td>99.05788784900005,2.184779215000049</td>\n",
       "    </tr>\n",
       "    <tr>\n",
       "      <th>2</th>\n",
       "      <td>13</td>\n",
       "      <td>Sumatera Barat</td>\n",
       "      <td>16709</td>\n",
       "      <td>13386</td>\n",
       "      <td>311</td>\n",
       "      <td>Point</td>\n",
       "      <td>100.46680503000005,-0.85191434799998</td>\n",
       "    </tr>\n",
       "    <tr>\n",
       "      <th>3</th>\n",
       "      <td>14</td>\n",
       "      <td>Riau</td>\n",
       "      <td>14841</td>\n",
       "      <td>11490</td>\n",
       "      <td>340</td>\n",
       "      <td>Point</td>\n",
       "      <td>101.81289195400007,0.510525849000032</td>\n",
       "    </tr>\n",
       "    <tr>\n",
       "      <th>4</th>\n",
       "      <td>15</td>\n",
       "      <td>Jambi</td>\n",
       "      <td>1399</td>\n",
       "      <td>892</td>\n",
       "      <td>27</td>\n",
       "      <td>Point</td>\n",
       "      <td>103.59932,-1.61775</td>\n",
       "    </tr>\n",
       "    <tr>\n",
       "      <th>5</th>\n",
       "      <td>16</td>\n",
       "      <td>Sumatera Selatan</td>\n",
       "      <td>8534</td>\n",
       "      <td>6954</td>\n",
       "      <td>461</td>\n",
       "      <td>Point</td>\n",
       "      <td>104.17041944500005,-3.213346821999949</td>\n",
       "    </tr>\n",
       "    <tr>\n",
       "      <th>6</th>\n",
       "      <td>17</td>\n",
       "      <td>Bengkulu</td>\n",
       "      <td>1294</td>\n",
       "      <td>992</td>\n",
       "      <td>59</td>\n",
       "      <td>Point</td>\n",
       "      <td>102.26312,-3.79116</td>\n",
       "    </tr>\n",
       "    <tr>\n",
       "      <th>7</th>\n",
       "      <td>19</td>\n",
       "      <td>Kepulauan Bangka Belitung</td>\n",
       "      <td>777</td>\n",
       "      <td>589</td>\n",
       "      <td>10</td>\n",
       "      <td>Point</td>\n",
       "      <td>105.98694808200008,-2.252956410999957</td>\n",
       "    </tr>\n",
       "    <tr>\n",
       "      <th>8</th>\n",
       "      <td>18</td>\n",
       "      <td>Lampung</td>\n",
       "      <td>1884</td>\n",
       "      <td>1120</td>\n",
       "      <td>78</td>\n",
       "      <td>Point</td>\n",
       "      <td>105.01831305100006,-4.918073086999925</td>\n",
       "    </tr>\n",
       "    <tr>\n",
       "      <th>9</th>\n",
       "      <td>21</td>\n",
       "      <td>Kepulauan Riau</td>\n",
       "      <td>4640</td>\n",
       "      <td>3074</td>\n",
       "      <td>116</td>\n",
       "      <td>Point</td>\n",
       "      <td>108.20222888900008,3.915947241000026</td>\n",
       "    </tr>\n",
       "    <tr>\n",
       "      <th>10</th>\n",
       "      <td>31</td>\n",
       "      <td>DKI Jakarta</td>\n",
       "      <td>115174</td>\n",
       "      <td>106100</td>\n",
       "      <td>2412</td>\n",
       "      <td>Point</td>\n",
       "      <td>106.82649,-6.17148</td>\n",
       "    </tr>\n",
       "    <tr>\n",
       "      <th>11</th>\n",
       "      <td>32</td>\n",
       "      <td>Jawa Barat</td>\n",
       "      <td>42572</td>\n",
       "      <td>32049</td>\n",
       "      <td>795</td>\n",
       "      <td>Point</td>\n",
       "      <td>107.60280789800004,-6.919980215999942</td>\n",
       "    </tr>\n",
       "    <tr>\n",
       "      <th>12</th>\n",
       "      <td>33</td>\n",
       "      <td>Jawa Tengah</td>\n",
       "      <td>39788</td>\n",
       "      <td>31937</td>\n",
       "      <td>1918</td>\n",
       "      <td>Point</td>\n",
       "      <td>110.20111252900006,-7.258970382999962</td>\n",
       "    </tr>\n",
       "    <tr>\n",
       "      <th>13</th>\n",
       "      <td>34</td>\n",
       "      <td>Daerah Istimewa Yogyakarta</td>\n",
       "      <td>4399</td>\n",
       "      <td>3568</td>\n",
       "      <td>108</td>\n",
       "      <td>Point</td>\n",
       "      <td>110.44536697100006,-7.89501381499997</td>\n",
       "    </tr>\n",
       "    <tr>\n",
       "      <th>14</th>\n",
       "      <td>35</td>\n",
       "      <td>Jawa Timur</td>\n",
       "      <td>55575</td>\n",
       "      <td>49542</td>\n",
       "      <td>3970</td>\n",
       "      <td>Point</td>\n",
       "      <td>112.73367880100011,-7.720113018999939</td>\n",
       "    </tr>\n",
       "  </tbody>\n",
       "</table>\n",
       "</div>"
      ],
      "text/plain": [
       "    Province_code               Province_name  Confirmed_cases  \\\n",
       "0              11                        Aceh             7797   \n",
       "1              12              Sumatera Utara            13277   \n",
       "2              13              Sumatera Barat            16709   \n",
       "3              14                        Riau            14841   \n",
       "4              15                       Jambi             1399   \n",
       "5              16            Sumatera Selatan             8534   \n",
       "6              17                    Bengkulu             1294   \n",
       "7              19   Kepulauan Bangka Belitung              777   \n",
       "8              18                     Lampung             1884   \n",
       "9              21              Kepulauan Riau             4640   \n",
       "10             31                 DKI Jakarta           115174   \n",
       "11             32                  Jawa Barat            42572   \n",
       "12             33                 Jawa Tengah            39788   \n",
       "13             34  Daerah Istimewa Yogyakarta             4399   \n",
       "14             35                  Jawa Timur            55575   \n",
       "\n",
       "    Recovered_cases  Death_cases Features Geometry Type  \\\n",
       "0              6258          282                  Point   \n",
       "1             10846          542                  Point   \n",
       "2             13386          311                  Point   \n",
       "3             11490          340                  Point   \n",
       "4               892           27                  Point   \n",
       "5              6954          461                  Point   \n",
       "6               992           59                  Point   \n",
       "7               589           10                  Point   \n",
       "8              1120           78                  Point   \n",
       "9              3074          116                  Point   \n",
       "10           106100         2412                  Point   \n",
       "11            32049          795                  Point   \n",
       "12            31937         1918                  Point   \n",
       "13             3568          108                  Point   \n",
       "14            49542         3970                  Point   \n",
       "\n",
       "            Features Geometry Coordinates  \n",
       "0     96.90952274800009,4.225081892000048  \n",
       "1     99.05788784900005,2.184779215000049  \n",
       "2    100.46680503000005,-0.85191434799998  \n",
       "3    101.81289195400007,0.510525849000032  \n",
       "4                      103.59932,-1.61775  \n",
       "5   104.17041944500005,-3.213346821999949  \n",
       "6                      102.26312,-3.79116  \n",
       "7   105.98694808200008,-2.252956410999957  \n",
       "8   105.01831305100006,-4.918073086999925  \n",
       "9    108.20222888900008,3.915947241000026  \n",
       "10                     106.82649,-6.17148  \n",
       "11  107.60280789800004,-6.919980215999942  \n",
       "12  110.20111252900006,-7.258970382999962  \n",
       "13   110.44536697100006,-7.89501381499997  \n",
       "14  112.73367880100011,-7.720113018999939  "
      ]
     },
     "execution_count": 64,
     "metadata": {},
     "output_type": "execute_result"
    }
   ],
   "source": [
    "#data_cov = data_cov.drop(columns=['Type','Features Type','ID-number'])\n",
    "data_cov[:15]"
   ]
  },
  {
   "cell_type": "code",
   "execution_count": 5,
   "metadata": {},
   "outputs": [
    {
     "name": "stdout",
     "output_type": "stream",
     "text": [
      "[ 7797 13277 16709 14841  1399]\n",
      "[ 6258 10846 13386 11490   892]\n",
      "['Aceh' 'Sumatera Utara' 'Sumatera Barat' 'Riau' 'Jambi']\n"
     ]
    }
   ],
   "source": [
    "import numpy as np\n",
    "\n",
    "conf_case = np.array(data_cov['Confirmed_cases'])\n",
    "reco_case = np.array(data_cov['Recovered_cases'])\n",
    "prov_name = np.array(data_cov['Province_name'])\n",
    "\n",
    "print(conf_case[:5]) \n",
    "print(reco_case[:5])\n",
    "print(prov_name[:5])"
   ]
  },
  {
   "cell_type": "code",
   "execution_count": 7,
   "metadata": {},
   "outputs": [
    {
     "data": {
      "image/png": "[encoded data removed]",
      "text/plain": [
       "<Figure size 432x288 with 1 Axes>"
      ]
     },
     "metadata": {
      "needs_background": "light"
     },
     "output_type": "display_data"
    }
   ],
   "source": [
    "dir_python = \"/home/not/Project/Python/Gambar/\"\n",
    "\n",
    "conf_fig = plt.figure()\n",
    "conf_vis = plt.hist(conf_case)\n",
    "plt.ylabel(\"banyak provinsi\")\n",
    "plt.xlabel(\"kasus terkonfirmasi\")\n",
    "plt.show()\n",
    "conf_fig.savefig(dir_python+'conf_cases.png')"
   ]
  },
  {
   "cell_type": "code",
   "execution_count": 8,
   "metadata": {},
   "outputs": [
    {
     "data": {
      "image/png": "[encoded data removed]",
      "text/plain": [
       "<Figure size 432x288 with 1 Axes>"
      ]
     },
     "metadata": {
      "needs_background": "light"
     },
     "output_type": "display_data"
    }
   ],
   "source": [
    "reco_fig = plt.figure()\n",
    "reco_vis = plt.hist(reco_case)\n",
    "plt.show()\n",
    "reco_fig.savefig('reco_cases.png')"
   ]
  },
  {
   "cell_type": "code",
   "execution_count": 9,
   "metadata": {},
   "outputs": [
    {
     "data": {
      "image/png": "[encoded data removed]",
      "text/plain": [
       "<Figure size 432x288 with 1 Axes>"
      ]
     },
     "metadata": {
      "needs_background": "light"
     },
     "output_type": "display_data"
    }
   ],
   "source": [
    "cov_fig = plt.figure()\n",
    "plt.scatter(prov_name,reco_case)\n",
    "plt.xticks(rotation=90)\n",
    "plt.show\n",
    "cov_fig.savefig('covid_per_provinsi.png')"
   ]
  },
  {
   "cell_type": "code",
   "execution_count": 6,
   "metadata": {},
   "outputs": [
    {
     "data": {
      "text/plain": [
       "array([[ 7797,  6258,   282],\n",
       "       [13277, 10846,   542],\n",
       "       [16709, 13386,   311],\n",
       "       [14841, 11490,   340],\n",
       "       [ 1399,   892,    27]])"
      ]
     },
     "execution_count": 6,
     "metadata": {},
     "output_type": "execute_result"
    }
   ],
   "source": [
    "parameter_covid = np.array(data_cov[['Confirmed_cases',\n",
    "                                     'Recovered_cases',\n",
    "                                     'Death_cases']])\n",
    "\n",
    "parameter_covid[:5]\n",
    "\n",
    "pair.plot([1,2,3])\n",
    "\n",
    "conf_fig = plt.subplot()\n",
    "conf_vis = plt.hist(conf_case)\n",
    "plt.ylabel(\"banyak provinsi\")\n",
    "plt.xlabel(\"kasus terkonfirmasi\")\n",
    "\n",
    "reco_fig = plt.figure()\n",
    "reco_vis = plt.hist(reco_case)\n",
    "\n",
    "cov_fig = plt.figure()\n",
    "plt.scatter(prov_name,reco_case)\n",
    "plt.xticks(rotation=90)"
   ]
  },
  {
   "cell_type": "code",
   "execution_count": 56,
   "metadata": {},
   "outputs": [
    {
     "data": {
      "text/plain": [
       "array([ True,  True,  True,  True,  True,  True,  True,  True,  True,\n",
       "        True,  True,  True,  True,  True,  True,  True,  True,  True,\n",
       "        True,  True,  True,  True,  True,  True,  True,  True,  True,\n",
       "        True,  True,  True,  True,  True,  True,  True])"
      ]
     },
     "execution_count": 56,
     "metadata": {},
     "output_type": "execute_result"
    }
   ],
   "source": [
    "parameter_covid = np.array(data_cov[['Confirmed_cases',\n",
    "                                     'Recovered_cases',\n",
    "                                     'Death_cases']])\n",
    "\n",
    "pd.coeff(parameter_covid[:,0],parameter_covid[:,2])"
   ]
  },
  {
   "cell_type": "code",
   "execution_count": 18,
   "metadata": {},
   "outputs": [
    {
     "data": {
      "image/png": "[encoded data removed]",
      "text/plain": [
       "<Figure size 720x720 with 9 Axes>"
      ]
     },
     "metadata": {
      "needs_background": "light"
     },
     "output_type": "display_data"
    }
   ],
   "source": [
    "pair = pd.plotting.scatter_matrix(data_cov[['Confirmed_cases',\n",
    "                                     'Recovered_cases',\n",
    "                                     'Death_cases']], figsize=(10,10), marker = 'o', hist_kwds = {'bins': 10}, alpha = 0.8)\n"
   ]
  },
  {
   "cell_type": "code",
   "execution_count": 42,
   "metadata": {
    "collapsed": true,
    "jupyter": {
     "outputs_hidden": true
    }
   },
   "outputs": [
    {
     "name": "stdout",
     "output_type": "stream",
     "text": [
      "Collecting mime\n",
      "  Downloading https://files.pythonhosted.org/packages/c3/94/d211d0a0e1ad71d7b42dc85531f9aa463393bcbee71b9492b2881361406e/mime-0.1.0.tar.gz\n",
      "Collecting future (from mime)\n",
      "  Downloading https://files.pythonhosted.org/packages/45/0b/38b06fd9b92dc2b68d58b75f900e97884c45bedd2ff83203d933cf5851c9/future-0.18.2.tar.gz (829kB)\n",
      "\u001b[K    100% |████████████████████████████████| 829kB 532kB/s ta 0:00:01\n",
      "\u001b[?25hBuilding wheels for collected packages: mime, future\n",
      "  Running setup.py bdist_wheel for mime ... \u001b[?25ldone\n",
      "\u001b[?25h  Stored in directory: /home/not/.cache/pip/wheels/18/fa/95/b3b92f350c8df57becba1faad2ef598cfbeb56188570e6ab8e\n",
      "  Running setup.py bdist_wheel for future ... \u001b[?25ldone\n",
      "\u001b[?25h  Stored in directory: /home/not/.cache/pip/wheels/8b/99/a0/81daf51dcd359a9377b110a8a886b3895921802d2fc1b2397e\n",
      "Successfully built mime future\n",
      "Installing collected packages: future, mime\n",
      "Successfully installed future-0.18.2 mime-0.1.0\n"
     ]
    }
   ],
   "source": [
    "!pip install mime\n",
    "data_cov_prov = data_cov[['Confirmed_cases','Recovered_cases','Death_cases']]"
   ]
  },
  {
   "cell_type": "code",
   "execution_count": 25,
   "metadata": {
    "collapsed": true,
    "jupyter": {
     "outputs_hidden": true
    }
   },
   "outputs": [
    {
     "data": {
      "image/png": "[encoded data removed]",
      "text/plain": [
       "<Figure size 540x540 with 12 Axes>"
      ]
     },
     "metadata": {
      "needs_background": "light"
     },
     "output_type": "display_data"
    }
   ],
   "source": [
    "import seaborn as sns\n",
    "pair_cov = sns.pairplot(data_cov_prov)\n",
    "pair_cov.fig.suptitle(\"Hubungan antara kasus Covid\", y=1.08)\n",
    "pair_cov.savefig(\"pair_covid.png\")"
   ]
  },
  {
   "cell_type": "code",
   "execution_count": 41,
   "metadata": {},
   "outputs": [],
   "source": [
    "counter = 1"
   ]
  },
  {
   "cell_type": "code",
   "execution_count": 39,
   "metadata": {},
   "outputs": [
    {
     "name": "stdin",
     "output_type": "stream",
     "text": [
      "masukan password anda: sas\n"
     ]
    },
    {
     "name": "stdout",
     "output_type": "stream",
     "text": [
      "maaf telah melebihi kuota, silahkan menghubungi +62123\n"
     ]
    }
   ],
   "source": [
    "from email.mime.multipart import MIMEMultipart\n",
    "from email.mime.text import MIMEText\n",
    "from email.mime.image import MIMEImage\n",
    "\n",
    "str_dari = 'contoh_dari@gmail.com'\n",
    "str_kepada = 'contoh_kepada@gmail.com'\n",
    "\n",
    "#membangun isi pada halaman surel\n",
    "msg_root = MIMEMultipart('related')\n",
    "msg_root['Subject'] = 'Pair covid visualization'\n",
    "msg_root['From'] = str_dari\n",
    "msg_root['To'] = str_kepada\n",
    "msg_root.preamble = 'This is a multi-part message in MIME format.'\n",
    "\n",
    "msg_alternative = MIMEMultipart('alternative')\n",
    "msg_root.attach(msg_alternative)\n",
    "\n",
    "msg_text = MIMEText('Sebuah pesan alternatif')\n",
    "msg_alternative.attach(msg_text)\n",
    "\n",
    "msg_html = \"\"\"\n",
    "    <h1> Pengantar</h1>\n",
    "    </br>\n",
    "    <p> Disini saya lampirkan sebuah surat berisi tentang</p>\n",
    "    </br>\n",
    "    <img src=\"cid:image1\">\n",
    "\"\"\"\n",
    "\n",
    "msg_text = MIMEText(msg_html,'html')\n",
    "msg_alternative.attach(msg_text)\n",
    "\n",
    "#memuat gambar\n",
    "fp = open('pair_covid.png', 'rb')\n",
    "msg_gambar = MIMEImage(fp.read())\n",
    "fp.close()\n",
    "\n",
    "# Mendefiniskan ID gambar\n",
    "msg_gambar.add_header('Content-ID', '<image1>')\n",
    "msg_root.attach(msg_gambar)\n",
    "\n",
    "# mengirim email menggunakan smtplib\n",
    "import smtplib\n",
    "import sys\n",
    "\n",
    "provider = 'smtp.gmail.com'\n",
    "email_pengguna = 'contoh@gmail.com'\n",
    "pass_pengguna = secret_email.env.password\n",
    "\n",
    "try:\n",
    "    if(counter<100):\n",
    "        smtp = smtplib.SMTP_SSL(provider, 465)\n",
    "        smtp.ehlo()\n",
    "        smtp.login(email_pengguna, pass_pengguna)\n",
    "        #mengirim email dengan komponen yang telah dibuat dengan MIME\n",
    "        smtp.sendmail(str_dari, str_kepada, msg_root.as_string())\n",
    "        smtp.quit()\n",
    "        counter+=1\n",
    "        print('Email Terkirim')\n",
    "    else:\n",
    "        print('maaf telah melebihi kuota, silahkan menghubungi +62123')\n",
    "except:\n",
    "    e = sys.exc_info()[1]\n",
    "    print(\"Terjadi masalah : %s\" %e)"
   ]
  },
  {
   "cell_type": "code",
   "execution_count": 40,
   "metadata": {},
   "outputs": [
    {
     "data": {
      "text/plain": [
       "100"
      ]
     },
     "execution_count": 40,
     "metadata": {},
     "output_type": "execute_result"
    }
   ],
   "source": [
    "counter"
   ]
  },
  {
   "cell_type": "code",
   "execution_count": null,
   "metadata": {},
   "outputs": [],
   "source": []
  }
 ],
 "metadata": {
  "kernelspec": {
   "display_name": "Python 3",
   "language": "python",
   "name": "python3"
  },
  "language_info": {
   "codemirror_mode": {
    "name": "ipython",
    "version": 3
   },
   "file_extension": ".py",
   "mimetype": "text/x-python",
   "name": "python",
   "nbconvert_exporter": "python",
   "pygments_lexer": "ipython3",
   "version": "3.6.9"
  }
 },
 "nbformat": 4,
 "nbformat_minor": 4
}
